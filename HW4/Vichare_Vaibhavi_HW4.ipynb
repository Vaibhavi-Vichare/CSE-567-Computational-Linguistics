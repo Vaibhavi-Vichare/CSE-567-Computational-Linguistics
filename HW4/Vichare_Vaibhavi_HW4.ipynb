{
  "nbformat": 4,
  "nbformat_minor": 0,
  "metadata": {
    "colab": {
      "name": "Vichare_Vaibhavi_HW4.ipynb",
      "provenance": [],
      "collapsed_sections": [
        "HHR5JHLfveqC",
        "_-214d0dvukt"
      ]
    },
    "kernelspec": {
      "name": "python3",
      "display_name": "Python 3"
    },
    "language_info": {
      "name": "python"
    }
  },
  "cells": [
    {
      "cell_type": "markdown",
      "metadata": {
        "id": "HHR5JHLfveqC"
      },
      "source": [
        "# Dataset exploration\n",
        "\n",
        "This assignment is designed to help you get a sense of the raw data we often work with as researchers. For this assignment, you will be using `pandas` in addition to your own knowledge of linguistic structure from the readings. This assignment requires the qualitative and quantitative assessment of several parts of a very small corpus. \n",
        "\n",
        "The coding components of this assignment will largely require loading in the data and building a simple input system that allows you to classify two instances of the same string as they appear in different sentences as meaning the same or different things. \n",
        "\n",
        "The assignment is designed to give you a feel for what we want out of computational models of semantic representations of words and also give you experience doing annotation for NLP tasks."
      ]
    },
    {
      "cell_type": "markdown",
      "metadata": {
        "id": "_-214d0dvukt"
      },
      "source": [
        "# The problem: Ambiguous words\n",
        "\n",
        "Language is often ambiguous, with the same string or series of sounds corresponding to different meanings. This **ambiguity** leads to challenges for NLP, such as distinguishing between seriousness and sarcasm (e.g., \"That was great\"), or between completely different, unrelated meanings (e.g., \"I couldn't bear to part with it\" vs. \"The bear did not want to part with it\"). Often, we are interested in identifying what meaning a word has in context. Can we properly guess what a speaker means by \"bear\", or \"great\"?\n",
        "\n",
        "One of the major areas of natural language processing is **Word Sense Disambiguation** (WSD). Under these schemes, a string is assumed to have several possible **senses**, or distinct meanings. We will discuss in greater detail in class why the idea that words have distinct meanings is challenging, from identifying and differentiating these meanings to building models that can assign a label to a given instance of a word. \n",
        "\n",
        "## The dataset\n",
        "\n",
        "This assignment will center around annotating a dataset of sentences that are stored in a `.tsv` file. This dataset, like the others we have worked with, contains one \"document\" per line. Each document in this dataset corresponds to one line, or subtitle, from a corpus of English subtitles for movies, along with some **metadata**. This particular file is structured as a matrix where the rows are records and the columns are values for that record -- it is very similar to a dictionary structure.\n",
        "\n",
        "The subtitles are presented out of context, one on each line in the `.tsv`.\n",
        "\n",
        "Some example subtitles, in the first column of the dataframe (`\"subtitle\"`) will look like this:\n",
        "\n",
        "* \"Neither his post , nor adjacent .\"\n",
        "* \"Send men out to post a guard .\"\n",
        "\n",
        "In the column `'word'` you will find **ambiguous words**. We have selected a small number of ambiguous words for you that have a diverse range of meanings for each. \n",
        "\n",
        "The dataset itself comes from [Rice et al. (2018)](https://link.springer.com/article/10.3758/s13428-018-1107-7), a study that looked at how common different types of ambiguous words were in a corpus of subtitles. In the third column in the tsv is the `'meaning_label'`. This is a categorical label (a string `str`) for meanings from an internet dictionary called Wordsmyth. The values are often represented as numbers (\"1\", \"2\"), but may also be represented as a dash character \"-\" to indicate something like, this meaning is \"not in the Wordsmyth list.\" The labels themselves have been defined somewhat informally by lexicographers. The label you see was the product of two separate annotators (students in the Rice et al. paper's lab) going through each of these sentences by hand and assigning labels to them with the help of the dictionary.\n",
        "\n",
        "Here we will be doing something similar, but less complex."
      ]
    },
    {
      "cell_type": "markdown",
      "metadata": {
        "id": "u23wQRbv1Yfs"
      },
      "source": [
        "# Question 0: Your imports (1 point)"
      ]
    },
    {
      "cell_type": "code",
      "metadata": {
        "id": "QfyBL7Q91btk"
      },
      "source": [
        "# put all of your imports here\n",
        "from google.colab import files\n",
        "import pandas as pd\n",
        "from io import BytesIO\n",
        "import numpy as np"
      ],
      "execution_count": 1,
      "outputs": []
    },
    {
      "cell_type": "markdown",
      "metadata": {
        "id": "dHnErlZKu88I"
      },
      "source": [
        "# Question 1: Loading in data using pandas (1 point)\n",
        "\n",
        "Import your code below and load the file `ambiguous.tsv` into the notebook. Convert it into a dataframe using `pandas`. Your dataframe should be called `df`. The format for loading in the dataframe will look like this:\n",
        "\n",
        "```python\n",
        "import pandas as pd\n",
        "\n",
        "df = pd.read_csv(\"/path/to/my/filename_for_this_assignment.tsv\", sep=\"\\t\")\n",
        "```\n",
        "\n",
        "The code for this will be a little more complicated if you are loading it in through `files.upload()`:\n",
        "\n",
        "```python\n",
        "import pandas as pd\n",
        "from io import BytesIO\n",
        "\n",
        "my_file = files.upload()\n",
        "\n",
        "df = pd.read_csv(BytesIO(my_file[\"filename_for_this_assignment.tsv\"]), sep=\"\\t\")\n",
        "```"
      ]
    },
    {
      "cell_type": "code",
      "source": [
        "my_file = files.upload()"
      ],
      "metadata": {
        "colab": {
          "resources": {
            "http://localhost:8080/nbextensions/google.colab/files.js": {
              "data": "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",
              "ok": true,
              "headers": [
                [
                  "content-type",
                  "application/javascript"
                ]
              ],
              "status": 200,
              "status_text": ""
            }
          },
          "base_uri": "https://localhost:8080/",
          "height": 73
        },
        "id": "-BDsNFXmJpDS",
        "outputId": "05de192b-b29a-4698-d117-69600bcfd069"
      },
      "execution_count": 2,
      "outputs": [
        {
          "output_type": "display_data",
          "data": {
            "text/plain": [
              "<IPython.core.display.HTML object>"
            ],
            "text/html": [
              "\n",
              "     <input type=\"file\" id=\"files-d37b59dc-b9d0-47af-9a4d-3aaf2e0965b6\" name=\"files[]\" multiple disabled\n",
              "        style=\"border:none\" />\n",
              "     <output id=\"result-d37b59dc-b9d0-47af-9a4d-3aaf2e0965b6\">\n",
              "      Upload widget is only available when the cell has been executed in the\n",
              "      current browser session. Please rerun this cell to enable.\n",
              "      </output>\n",
              "      <script src=\"/nbextensions/google.colab/files.js\"></script> "
            ]
          },
          "metadata": {}
        },
        {
          "output_type": "stream",
          "name": "stdout",
          "text": [
            "Saving ambiguous.tsv to ambiguous.tsv\n"
          ]
        }
      ]
    },
    {
      "cell_type": "code",
      "metadata": {
        "id": "T8cW5GlutqTQ"
      },
      "source": [
        "# load in the document and store it as the desired dataframe\n",
        "df = pd.read_csv(BytesIO(my_file[\"ambiguous.tsv\"]), sep=\"\\t\")"
      ],
      "execution_count": 3,
      "outputs": []
    },
    {
      "cell_type": "markdown",
      "metadata": {
        "id": "XiBvkUqX0Zn6"
      },
      "source": [
        "# Question 2: Understanding the dataframe (3 points)\n",
        "\n",
        "Now that you have `df` in the file, please **print** the answer to each of the following. If you have not worked with `pandas` before, please refer to the [documentation](https://pandas.pydata.org/docs/) and/or search for the following on Stack Overflow. If you search for these online, be sure to include the term \"pandas\" in your search. Each response is worth 1 point.\n",
        "\n",
        "* The number of rows in `df`\n",
        "* The names of the columns in `df`\n",
        "* The unique values in `df['word']`"
      ]
    },
    {
      "cell_type": "code",
      "metadata": {
        "id": "enTEqwKh0kHp",
        "colab": {
          "base_uri": "https://localhost:8080/"
        },
        "outputId": "eff4e11a-0bf9-4edf-8da7-af04e51fa215"
      },
      "source": [
        "# number of rows\n",
        "print(\"Number of rows in df::\\n\",len(df))\n",
        "\n",
        "# column names of df\n",
        "print(\"Column Names of df::\")\n",
        "columns = df.columns\n",
        "for column in columns:\n",
        "  print(column)\n",
        "\n",
        "# unique values in df['word']\n",
        "print(\"Unique values in df['word']::\")\n",
        "unique_values=df['word'].unique()\n",
        "for uni_val in unique_values:\n",
        "  print(uni_val)"
      ],
      "execution_count": 8,
      "outputs": [
        {
          "output_type": "stream",
          "name": "stdout",
          "text": [
            "Number of rows in df::\n",
            " 351\n",
            "Column Names of df::\n",
            "subtitle\n",
            "word\n",
            "meaning_label\n",
            "Unique values in df['word']::\n",
            "post\n",
            "zip\n",
            "dove\n",
            "tick\n"
          ]
        }
      ]
    },
    {
      "cell_type": "markdown",
      "metadata": {
        "id": "IJhTEOA71SNO"
      },
      "source": [
        "# Question 3: Subsetting the data (5 points)\n",
        "\n",
        "For this question, I would like you to subset to the rows in the dataframe that only have the word \"post\" in them. In order to do this, refer to the `pandas` subsetting documentation: https://pandas.pydata.org/docs/getting_started/intro_tutorials/03_subset_data.html\n",
        "\n",
        "As with most comparisons, you will want to make sure you use the `==` operator from previous assignments. So, be sure to subset to all rows where the string is `\"post\"`. \n",
        "\n",
        "Save the subset of the data as a variable called `post_df`."
      ]
    },
    {
      "cell_type": "markdown",
      "metadata": {
        "id": "pZFoKMy4-Oh2"
      },
      "source": [
        "### Question 3A: Subsetting to a single matching string (2 points)"
      ]
    },
    {
      "cell_type": "code",
      "metadata": {
        "id": "leGUlYLU1Rnn"
      },
      "source": [
        "# your code for creating the post dataframe goes here\n",
        "post_df = df[df['word'] == 'post']\n",
        "post_df"
      ],
      "execution_count": null,
      "outputs": []
    },
    {
      "cell_type": "markdown",
      "metadata": {
        "id": "9agn2yuY-GO_"
      },
      "source": [
        "## Question 3B: Describe the subset (1 point)\n",
        "\n",
        "Once you have created your `post_df` dataframe, print out the length of `post_df` in terms of the number of rows."
      ]
    },
    {
      "cell_type": "code",
      "metadata": {
        "id": "FJx720uPTrOb",
        "colab": {
          "base_uri": "https://localhost:8080/"
        },
        "outputId": "b271499f-f9bf-4cd7-a4ad-1a37cf7ed063"
      },
      "source": [
        "# print the number of rows of post_df\n",
        "print(\"Number of rows of post_df::\", len(post_df))"
      ],
      "execution_count": 10,
      "outputs": [
        {
          "output_type": "stream",
          "name": "stdout",
          "text": [
            "Number of rows of post_df:: 75\n"
          ]
        }
      ]
    },
    {
      "cell_type": "markdown",
      "metadata": {
        "id": "5dDc5ObkTMuC"
      },
      "source": [
        "## Question 3C: Create a subset for sense \"2\" in post_df\n",
        "\n",
        "Now, create an additional subset to get the \"2\" sense. Store this smaller subset as `two_post_df`. Print the number of rows in `two_post_df`."
      ]
    },
    {
      "cell_type": "code",
      "metadata": {
        "id": "YfIYcKwUTzhY",
        "colab": {
          "base_uri": "https://localhost:8080/"
        },
        "outputId": "f32466d6-ab05-4c46-e5ac-f35f0127e178"
      },
      "source": [
        "# create smaller subset\n",
        "two_post_df = post_df[post_df['meaning_label'] == '2']\n",
        "# print number of rows\n",
        "print(\"Number of rows of two_post_df::\", len(two_post_df))"
      ],
      "execution_count": 11,
      "outputs": [
        {
          "output_type": "stream",
          "name": "stdout",
          "text": [
            "Number of rows of two_post_df:: 36\n"
          ]
        }
      ]
    },
    {
      "cell_type": "markdown",
      "metadata": {
        "id": "hvdlCV1_9502"
      },
      "source": [
        "# Question 4: Data Annotation (21 points total)\n",
        "\n",
        "This question leads you through a long journey to understand how we can get data for our machine learning models. Below, you will find functions that will help us annotate our data inside a notebook. We can store our annotations and then use them to label our data later. \n",
        "\n",
        "For this annotation task, we will be simplifying the task of Word Sense Disambiguation down to pairwise comparisons. You will compare randomly selected sentences that contain two instances of the same string (i.e., \"post\"). We want you to annotate whether the use of \"post\" means roughly the same or different things in the sentences. This task is challenging because sometimes it is unclear from a sentence or there is not enough information to go on. Try your best and answer the questions below. You may have to go through the data several times, but it should teach you a lot about what we need to do good word sense disambiguation!"
      ]
    },
    {
      "cell_type": "markdown",
      "metadata": {
        "id": "OS-hvZVzVTI4"
      },
      "source": [
        "## Question 4A: Run and answer the prompt (1 point)"
      ]
    },
    {
      "cell_type": "code",
      "metadata": {
        "id": "lZii1xVS98Cj"
      },
      "source": [
        "# Run the below code and complete one example\n",
        "\n",
        "def subtitle_randomizer(subset_df):\n",
        "  # get two rows\n",
        "  two_rows = subset_df.sample(n=2, replace=False)\n",
        "  sent_one, sent_two = two_rows['subtitle'].tolist()\n",
        "  sense_sent_one, sense_sent_two = two_rows['meaning_label'].tolist()\n",
        "  senses_match_flag = sense_sent_one==sense_sent_two\n",
        "  print(f\"First sentence: {sent_one}\\nSecond sentence: {sent_two}\")\n",
        "  return senses_match_flag\n",
        "\n",
        "def request_judgment():\n",
        "  answer = ''\n",
        "  while answer not in {'same', 'different'}:\n",
        "    answer = input(\"Is the meaning of 'post' in these two sentences the same or different?         :    \")\n",
        "  if answer == 'same':\n",
        "    same_flag = True\n",
        "  elif answer== 'different':\n",
        "    same_flag = False\n",
        "  return same_flag\n",
        "\n",
        "def annotate_one(subset_df):\n",
        "  gold_label = subtitle_randomizer(subset_df)\n",
        "  annotator_says_match_flag = request_judgment()\n",
        "  print(f\"\\nGold label: {gold_label}\\nAnnotator answer: {annotator_says_match_flag}\\n\")\n",
        "  return gold_label, annotator_says_match_flag"
      ],
      "execution_count": 12,
      "outputs": []
    },
    {
      "cell_type": "code",
      "source": [
        "gold_label, annotator_match = annotate_one(post_df)"
      ],
      "metadata": {
        "colab": {
          "base_uri": "https://localhost:8080/"
        },
        "id": "HhuGVxMy8D7d",
        "outputId": "6a12ade5-3ca3-4df9-a154-92755b61c062"
      },
      "execution_count": 13,
      "outputs": [
        {
          "output_type": "stream",
          "name": "stdout",
          "text": [
            "First sentence: Eat faster ! It 's no big deal , you can post it on the lnternet\n",
            "Second sentence: He offers you the post of Viceroy of Fujian and Guangdong Provinces\n",
            "Is the meaning of 'post' in these two sentences the same or different?         :    different\n",
            "\n",
            "Gold label: False\n",
            "Annotator answer: False\n",
            "\n"
          ]
        }
      ]
    },
    {
      "cell_type": "markdown",
      "metadata": {
        "id": "N2y6tY76YOV1"
      },
      "source": [
        "## Question 4B: Reflection on 4A (2 points)\n",
        "\n",
        "For the specific example you saw above, elaborate on **how you made your decision** about whether the meanings were the same or different. Go into detail on the specific example -- **be specific**. Were there any **difficulties** that the sentences posed? If it was easy, what kind of information did you use? Is there a way that you can think of that would **make the task easier**? Refer to the readings from Bender and Lascarides (Chapter 4) and SLP3 (Chapter 18) where appropriate."
      ]
    },
    {
      "cell_type": "markdown",
      "metadata": {
        "id": "kvH6iBifYQAr"
      },
      "source": [
        "*    Here, in this particular example word 'post' has two different meanings. The first sentence is about uploding something on the internet. And, the second sentence is about offering position. As you can see, these two sentences are not similar to each other. So by analyzing sense of sentences I made my decision.\n",
        "*   There were no difficulties in those sentences. They are straightforword sentences with straightforword meaning. As I said it earlier, word 'post' is used in different ways in above sentences.\n",
        "*   For most of the sentences, meaning of word 'post' is enough to distingush them from one another. But in general, to make this task more easier, I think, if we have given more information about sentences, then it would make easier. \n",
        "> For Example: \"This is my post ,\"  This sentence is quite confusing as it has multiple meanings. One meaning is, it maybe talking about position, and another meaning maybe, it is talking about some social media post. But if we have given more information about sentence then we maybe can guess correct sense.\n",
        "\n",
        "\n",
        "\n",
        "\n",
        "   \n",
        "\n",
        "\n",
        "\n",
        "\n"
      ]
    },
    {
      "cell_type": "markdown",
      "metadata": {
        "id": "jqZl8ot0Xqwt"
      },
      "source": [
        "## Question 4C: Randomly sample multiple pairs (8 points)\n",
        "\n",
        "Create a new list called `accuracies`.\n",
        "\n",
        "Randomly sample `post_df` 30 times using a `for` loop. For this question, you will make judgments about whether the senses in the two sentences you get are the same or not. To say whether two senses are the same, you should write \"same\" (without quotes) in the text box. If the two senses are different, you should write \"different\" (without quotes). **Keep track of what makes your judgments difficult** for Question 4C. Try to do your very best on these classifications and go through the answers until you get about 80% of these correct.\n",
        "\n",
        "For each answer you make, you should **compare whether your answer matched** the `gold_label`. So, inside your loop, create a variable (a boolean) called `correct` that is whether your answer and the gold label match. Refer to the code in the `subtitle_randomizer` function if necessary."
      ]
    },
    {
      "cell_type": "code",
      "source": [
        "# Create a list to store the accuracy of your responses\n",
        "accuracies = []\n",
        "\n",
        "# Create a loop to iteratively compare 30 pairs of sentences\n",
        "for sample in range(30):\n",
        "  ## - Use the annotate_one function with post_df\n",
        "  gold_label, annotator_match = annotate_one(post_df)\n",
        "  ## check whether your answer is correct\n",
        "  if gold_label == annotator_match:\n",
        "    correct = True\n",
        "    ## add the correctness score for your answer to accuracy list\n",
        "    accuracies.append(int(correct))\n",
        "  else:\n",
        "    correct = False\n",
        "    ## add the correctness score for your answer to accuracy list\n",
        "    accuracies.append(int(correct))"
      ],
      "metadata": {
        "id": "E_q4NP3-qQKN",
        "colab": {
          "base_uri": "https://localhost:8080/"
        },
        "outputId": "ca8b11a0-5fd2-478b-e4f6-1e6432951837"
      },
      "execution_count": 15,
      "outputs": [
        {
          "output_type": "stream",
          "name": "stdout",
          "text": [
            "First sentence: Alice , hiding behind the post .\n",
            "Second sentence: How can I pay you back ? I 'll post the money back , okay ?\n",
            "Is the meaning of 'post' in these two sentences the same or different?         :    different\n",
            "\n",
            "Gold label: False\n",
            "Annotator answer: False\n",
            "\n",
            "First sentence: Jerry , I 'm sorry . We have a call from the Milwaukee post office . The mail for Henry Finch is being forwarded here to Manhattan .\n",
            "Second sentence: Bobby , set that on the corner post .\n",
            "Is the meaning of 'post' in these two sentences the same or different?         :    different\n",
            "\n",
            "Gold label: False\n",
            "Annotator answer: False\n",
            "\n",
            "First sentence: And you ai n't no lamp post . You 're a heel . Buy you a drink .\n",
            "Second sentence: All right . You set up a command post , okay ?\n",
            "Is the meaning of 'post' in these two sentences the same or different?         :    different\n",
            "\n",
            "Gold label: False\n",
            "Annotator answer: False\n",
            "\n",
            "First sentence: We must inform the militia at once . I , Philip Philipovich , have taken up an official post . - Give me the paper .\n",
            "Second sentence: Communications can take place only if I leave , and I do n't want to abandon my post ,\n",
            "Is the meaning of 'post' in these two sentences the same or different?         :    same\n",
            "\n",
            "Gold label: True\n",
            "Annotator answer: True\n",
            "\n",
            "First sentence: Put this on the army circuit . I want the command post at the bridge at once . ( phone rings )\n",
            "Second sentence: So famous , in fact , that everybody has a reproduction . There are post cards -- We have the calendar .\n",
            "Is the meaning of 'post' in these two sentences the same or different?         :    different\n",
            "\n",
            "Gold label: False\n",
            "Annotator answer: False\n",
            "\n",
            "First sentence: All right . You set up a command post , okay ?\n",
            "Second sentence: Direct disobedience to orders , dereliction of duty , leaving an assigned post .\n",
            "Is the meaning of 'post' in these two sentences the same or different?         :    same\n",
            "\n",
            "Gold label: True\n",
            "Annotator answer: True\n",
            "\n",
            "First sentence: So famous , in fact , that everybody has a reproduction . There are post cards -- We have the calendar .\n",
            "Second sentence: Let 's post this on the Dental Society database -- see if anyone responds .\n",
            "Is the meaning of 'post' in these two sentences the same or different?         :    same\n",
            "\n",
            "Gold label: False\n",
            "Annotator answer: True\n",
            "\n",
            "First sentence: Good morning . Rizzuto , Chief of Police . What the devil are you doing down there on the beach with crooks ? Why were n't you at your post ? I 've been trying to reach you for 20 minutes . -That 's Vanucci . What ? Are you listening ? Vanuccil You 're stealing the gold of Cairo with him . Do you realize you 're an accessory before , during and after the fact ? Softening of the brain .\n",
            "Second sentence: Maybe he didn√Ø¬ø¬Ωt see me . I wouldn√Ø¬ø¬Ωt go banco on that . Giving up bad habits , eh ? James , where are we heading ? Nearest post office to contact London .\n",
            "Is the meaning of 'post' in these two sentences the same or different?         :    different\n",
            "\n",
            "Gold label: False\n",
            "Annotator answer: False\n",
            "\n",
            "First sentence: We are sending nice copies by book post and trust they will arrive safely ... ... and that you will be pleased with them .\n",
            "Second sentence: All right . You set up a command post , okay ?\n",
            "Is the meaning of 'post' in these two sentences the same or different?         :    different\n",
            "\n",
            "Gold label: False\n",
            "Annotator answer: False\n",
            "\n",
            "First sentence: Get a taxi if you 've got enough stamps . Cash them at a post office . Should n't have to .\n",
            "Second sentence: All the top brass on post are in the stockade , and I find myself acting commander .\n",
            "Is the meaning of 'post' in these two sentences the same or different?         :    different\n",
            "\n",
            "Gold label: False\n",
            "Annotator answer: False\n",
            "\n",
            "First sentence: This is my post . `` This is my post '' ? This is my post . `` This is my post '' .\n",
            "Second sentence: I ai n't got no paper to post bail .\n",
            "Is the meaning of 'post' in these two sentences the same or different?         :    different\n",
            "\n",
            "Gold label: False\n",
            "Annotator answer: False\n",
            "\n",
            "First sentence: We were in a two-man listening post , talking just like we are here .\n",
            "Second sentence: If Your Honor pleases , these gentlemen have come to post bond for the defendant .\n",
            "Is the meaning of 'post' in these two sentences the same or different?         :    different\n",
            "\n",
            "Gold label: False\n",
            "Annotator answer: False\n",
            "\n",
            "First sentence: I got a package to pick up at the post office .\n",
            "Second sentence: This is my post ,\n",
            "Is the meaning of 'post' in these two sentences the same or different?         :    same\n",
            "\n",
            "Gold label: False\n",
            "Annotator answer: True\n",
            "\n",
            "First sentence: Governor Arthur has agreed to consider Raymond for a cabinet-level post .\n",
            "Second sentence: Just post enough of them around here regular route home and she 'll think the job is done .\n",
            "Is the meaning of 'post' in these two sentences the same or different?         :    different\n",
            "\n",
            "Gold label: False\n",
            "Annotator answer: False\n",
            "\n",
            "First sentence: Jerry , I 'm sorry . We have a call from the Milwaukee post office . The mail for Henry Finch is being forwarded here to Manhattan .\n",
            "Second sentence: Bobby , set that on the corner post .\n",
            "Is the meaning of 'post' in these two sentences the same or different?         :    different\n",
            "\n",
            "Gold label: False\n",
            "Annotator answer: False\n",
            "\n",
            "First sentence: Communications can take place only if I leave , and I do n't want to abandon my post ,\n",
            "Second sentence: The 'Wanted ' posters at the post office ...\n",
            "Is the meaning of 'post' in these two sentences the same or different?         :    different\n",
            "\n",
            "Gold label: False\n",
            "Annotator answer: False\n",
            "\n",
            "First sentence: Yeomgye JU Mu-suk ? Day4- of such learning not go to the mainland and take up a government post ?\n",
            "Second sentence: Sydney , you'Il infiltrate the weakest post and secure it .\n",
            "Is the meaning of 'post' in these two sentences the same or different?         :    same\n",
            "\n",
            "Gold label: True\n",
            "Annotator answer: True\n",
            "\n",
            "First sentence: Bobby , set that on the corner post .\n",
            "Second sentence: I guess there was some screw-up at the damn post office .\n",
            "Is the meaning of 'post' in these two sentences the same or different?         :    different\n",
            "\n",
            "Gold label: False\n",
            "Annotator answer: False\n",
            "\n",
            "First sentence: But your man was on post till he turned her over to night watch . He says he was . What else you got ? I got ta get you on a landline .\n",
            "Second sentence: I guess there was some screw-up at the damn post office .\n",
            "Is the meaning of 'post' in these two sentences the same or different?         :    different\n",
            "\n",
            "Gold label: False\n",
            "Annotator answer: False\n",
            "\n",
            "First sentence: I got a package to pick up at the post office .\n",
            "Second sentence: Yeah , there 's a post that 's suppose to open up at the site department and if I kiss up to the old win bag , then you will be dating a fully ten year professor .\n",
            "Is the meaning of 'post' in these two sentences the same or different?         :    different\n",
            "\n",
            "Gold label: False\n",
            "Annotator answer: False\n",
            "\n",
            "First sentence: I am innocent . It was n't my fault . WelI , Murph . Send us a post card . Bye . Au r e v oir , Hildegarde . When wilI we see you ? Next time you see me ... ... I'Il be in a RolIs-Royce , giving interviews on success .\n",
            "Second sentence: Direct disobedience to orders , dereliction of duty , leaving an assigned post .\n",
            "Is the meaning of 'post' in these two sentences the same or different?         :    different\n",
            "\n",
            "Gold label: False\n",
            "Annotator answer: False\n",
            "\n",
            "First sentence: When I was just an army brat at the post school ,\n",
            "Second sentence: For $ 200 ... ... Roy can hit the ball through the bar , out the patio , into the river ... ... and make that pelican right there fly off its post .\n",
            "Is the meaning of 'post' in these two sentences the same or different?         :    different\n",
            "\n",
            "Gold label: False\n",
            "Annotator answer: False\n",
            "\n",
            "First sentence: The 'Wanted ' posters at the post office ...\n",
            "Second sentence: When we have enough evidence , we 'll show it to the authorities . If that does n't work , we 'll post the video on our website .\n",
            "Is the meaning of 'post' in these two sentences the same or different?         :    same\n",
            "\n",
            "Gold label: False\n",
            "Annotator answer: True\n",
            "\n",
            "First sentence: Get to the command post ... ... and tell Wellman he 's got himself a battalion . I 'll carry you out , sir . I gave you an order .\n",
            "Second sentence: I thought Lorelai could post it in case some of the inn√Ø¬ø¬Ωs other guests wanted to join us in our pre-game activities .\n",
            "Is the meaning of 'post' in these two sentences the same or different?         :    same\n",
            "\n",
            "Gold label: False\n",
            "Annotator answer: True\n",
            "\n",
            "First sentence: Sydney , you'Il infiltrate the weakest post and secure it .\n",
            "Second sentence: How proud are you gon na be if I charge you with deserting your post ?\n",
            "Is the meaning of 'post' in these two sentences the same or different?         :    same\n",
            "\n",
            "Gold label: True\n",
            "Annotator answer: True\n",
            "\n",
            "First sentence: And you ai n't no lamp post . You 're a heel . Buy you a drink .\n",
            "Second sentence: Neither his post , nor adjacent .\n",
            "Is the meaning of 'post' in these two sentences the same or different?         :    different\n",
            "\n",
            "Gold label: False\n",
            "Annotator answer: False\n",
            "\n",
            "First sentence: All the top brass on post are in the stockade , and I find myself acting commander .\n",
            "Second sentence: What 's strange is going into the evidence locker after post and finding nothing left .\n",
            "Is the meaning of 'post' in these two sentences the same or different?         :    same\n",
            "\n",
            "Gold label: True\n",
            "Annotator answer: True\n",
            "\n",
            "First sentence: You got to hit the ball , it 's gon na bank off that post .\n",
            "Second sentence: The 'Wanted ' posters at the post office ...\n",
            "Is the meaning of 'post' in these two sentences the same or different?         :    different\n",
            "\n",
            "Gold label: False\n",
            "Annotator answer: False\n",
            "\n",
            "First sentence: I guess there was some screw-up at the damn post office .\n",
            "Second sentence: You got to hit the ball , it 's gon na bank off that post .\n",
            "Is the meaning of 'post' in these two sentences the same or different?         :    different\n",
            "\n",
            "Gold label: False\n",
            "Annotator answer: False\n",
            "\n",
            "First sentence: All right . You set up a command post , okay ?\n",
            "Second sentence: I represent parties who wish to remain anonymous ... ..and who have instructed me to post bail for the defendants ... ..or pay any fines levied in case they plead guilty , ... ..which I 'm sure they will now do . Who is he ? It 's the scout .\n",
            "Is the meaning of 'post' in these two sentences the same or different?         :    different\n",
            "\n",
            "Gold label: False\n",
            "Annotator answer: False\n",
            "\n"
          ]
        }
      ]
    },
    {
      "cell_type": "markdown",
      "metadata": {
        "id": "0cHgrkHoSEeo"
      },
      "source": [
        "## Question 4D: Assessing your accuracy (2 points)\n",
        "\n",
        "Now, take the average of `accuracies` using `np.mean` and save it into a variable called `mean_accuracy`. Report this value by printing it. \n",
        "\n",
        "#### Note: If your mean_accuracy is under .8, please go back up to 4C and rerun. Keep track of the number of times you have run."
      ]
    },
    {
      "cell_type": "code",
      "metadata": {
        "id": "FNeZzOc5Zeeh",
        "colab": {
          "base_uri": "https://localhost:8080/"
        },
        "outputId": "f0eaf872-7ba0-4a9f-d39e-98d3622ef5f1"
      },
      "source": [
        "# compute the proportion of your responses that were correct\n",
        "print(accuracies)\n",
        "array = np.array(accuracies)\n",
        "mean_accuracy = np.mean(array)\n",
        "print(mean_accuracy)"
      ],
      "execution_count": 18,
      "outputs": [
        {
          "output_type": "stream",
          "name": "stdout",
          "text": [
            "[1, 1, 1, 1, 1, 1, 0, 1, 1, 1, 1, 1, 0, 1, 1, 1, 1, 1, 1, 1, 1, 1, 0, 0, 1, 1, 1, 1, 1, 1]\n",
            "0.8666666666666667\n"
          ]
        }
      ]
    },
    {
      "cell_type": "markdown",
      "metadata": {
        "id": "3qeYeuy2Zib2"
      },
      "source": [
        "## Question 4E: Reflection on multiple rounds of annotation (8 points)\n",
        "\n",
        "We asked you to assess your accuracy in 4D. Recall that in 4A we asked you to try to do your best. Tell us a little bit about the following:\n",
        "\n",
        "1. About how long did it take you to get to 80% accuracy on the annotation?\n",
        "2. What made some annotations easy?\n",
        "3. What made some annotations hard?\n",
        "4. Name some specific examples of sentences you got wrong and why you think that happened.\n",
        "Refer to the readings from Bender and Lascarides (Chapters 3 and 4) and SLP3 (Chapter 18) where appropriate."
      ]
    },
    {
      "cell_type": "markdown",
      "metadata": {
        "id": "v03LkIErSH9z"
      },
      "source": [
        "1.   About how long did it take you to get to 80% accuracy on the annotation?\n",
        "> After two times I got 86.66% accuracy on the annotation. During my first tried I got 74% accuracy on the annotation. \n",
        "2.   What made some annotations easy?\n",
        "> Some annotations were easy because they were easy to understand. Senses of two sentences were straightforwoard. That is by reading only, you can understand whether meaning of two sentences are same or different.\\\n",
        "For Example:\\\n",
        "First sentence: And you ain't no lamp post.You're a heel.Buy you a drink.\\\n",
        "Second sentence: All right . You set up a command post , okay ?\\\n",
        "So, in the first sentence, word 'post' is used to describe as pole whereas in the second sentence it is used to describe as position. So from the meaning and overall sense of the sentence it made easier to make decision.\n",
        "3.  What made some annotations hard?\n",
        "> Sometimes it was confusing to find out in what sense the word 'post' used in the sentence. It happened because of lack of information or difficulty to understand sentences.\\\n",
        "For Example:\\\n",
        "First sentence: I got a package to pick up at the post office .\\\n",
        "Second sentence: This is my post ,\\\n",
        "So, in the first sentence, meaning of the word 'post' is organized delivery of mail. I got these sense form the word 'post office','package'. That means, it's not only sense of one word is imposrtant. Overall information like in what sense that word is used is also important.\n",
        "But, in second sentence, word 'post' can be position or some social media post or something related to mail. It was confusing for me to guess sense as there is less information.\n",
        "4.   Name some specific examples of sentences you got wrong and why you think that happened. Refer to the readings from Bender and Lascarides (Chapters 3 and 4) and SLP3 (Chapter 18) where appropriate.\n",
        ">  Following are the set of sentences that I got wrong;\\\n",
        "Example 1:\\\n",
        "First sentence: So famous , in fact , that everybody has a reproduction . There are post cards -- We have the calendar .\\\n",
        "Second sentence: Let 's post this on the Dental Society database -- see if anyone responds .\\\n",
        "Is the meaning of 'post' in these two sentences the same or different?         :    same\\\n",
        "Gold label: False\n",
        "Annotator answer: True\n",
        "I thought both of these sentences are talking about uploding delivery or upload. But, I ignore the fact that, word 'post' used in the first sentence is related to mailing whereas in the second sentence it is used as something share on social media. Here the mistake was, I considered wrong definations of word 'post'. \n",
        "\n",
        "\n",
        "\n",
        "\n",
        "\n",
        "\n",
        "\n",
        "\n",
        "\n"
      ]
    },
    {
      "cell_type": "markdown",
      "metadata": {
        "id": "nMXOOFm7jb7v"
      },
      "source": [
        "# Bonus (Free response: 5 points)\n",
        "\n",
        "Describe another way of solving the problem of annotating senses. Flesh out the procedure you would use, and explain why you think it would be better than the way we did the task here. What improvements does your task make upon the task in Questions 0-4? Given what we have discussed about senses and the difficulty in marking clear boundaries with them, does your method solve this problem? Why or why not?"
      ]
    },
    {
      "cell_type": "markdown",
      "metadata": {
        "id": "arWYk7cAjtL2"
      },
      "source": [
        "*   Another way of solving the problem of annotating senses is finding semantic similarity between the meaning of two sentences. To determine the semantic similarity of two sentences, the easiest and most straightforward method is to take the average of the word embeddings in each sentence and calculate their cosine. \n",
        "*  First, we will remove the stopwords from each sentence. And, then instead of storing words, we can store meaning of each word into vectors. From the total overlapping we'll assign meaning to each sentence.Then we can map meaning of one sentence to another by cosine similarity.\n",
        "* This procedure is better than the way we did in the task because it reduces the chances of ambiguty between two setence.\n",
        "\n",
        "\n",
        "\n",
        "\n",
        "\n"
      ]
    }
  ]
}