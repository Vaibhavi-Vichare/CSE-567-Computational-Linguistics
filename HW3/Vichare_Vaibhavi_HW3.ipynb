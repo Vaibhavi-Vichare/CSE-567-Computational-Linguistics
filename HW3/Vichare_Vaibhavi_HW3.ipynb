{
  "nbformat": 4,
  "nbformat_minor": 0,
  "metadata": {
    "colab": {
      "name": "Vichare_Vaibhavi_HW3.ipynb",
      "provenance": [],
      "collapsed_sections": []
    },
    "kernelspec": {
      "name": "python3",
      "display_name": "Python 3"
    },
    "language_info": {
      "name": "python"
    }
  },
  "cells": [
    {
      "cell_type": "markdown",
      "source": [
        "## Homework 3 (31 points)\n",
        "\n",
        "The target word of Game 1 was \"jaguar\" and the target word of Game 2 was \"biweekly.\" First, for this assignment, we will be asking you some qualitative questions about the linguistic differences between the words you used. Whether or not you guessed the word correctly, think carefully about what you know about each word, and what it might mean for a word to be a \"neighbor\" of each word."
      ],
      "metadata": {
        "id": "dfyb1-_zGjR-"
      }
    },
    {
      "cell_type": "markdown",
      "source": [
        "# Question 1 (6 points)\n",
        "\n",
        "## Describe the differences between \"jaguar\" and \"biweekly\"\n",
        "\n",
        "Now that you know the answers, can you think of any factors that might have made Game 1 easier or harder than Game 2?"
      ],
      "metadata": {
        "id": "FfeeVuHZGsoP"
      }
    },
    {
      "cell_type": "markdown",
      "source": [
        "*   The similarity between two words tells us their semantic similarity, measured in a number between 0 and 1.\n",
        "*   These two words are totally different from each other. They have different meanings. Meaning there is no correlation between them.\n",
        "*  'jaguar' is a type of cat where meaning of'biweekly' is a twice a week.\n",
        "*   So the game like this, our first instinct always goes to basic words that are related to fruit, car, animal.\n",
        "*   That's what happened in Game 1. When I find out that the target word is more similar to category animal, I started listing out different categories of animal like dog , cat. Then I find out that given target word is similar to different types of Cats. And that's how I completed Game1.\n",
        "*   But in Game2, it was very hard to guess word. It tooks a lot of guesses to find that target word.\n",
        "*   That's why I think, Game1 is easier than Game2.\n",
        "\n",
        "\n",
        "\n",
        "\n",
        "\n",
        "\n",
        "\n",
        "\n",
        "\n",
        "\n"
      ],
      "metadata": {
        "id": "N3SIDUUlHyPF"
      }
    },
    {
      "cell_type": "markdown",
      "source": [
        "# Question 2 (5 points)\n",
        "\n",
        "Once you found out the the answer for a given game, reflect on the following:\n",
        "\n",
        "* Which guesses lead to big changes in differences?\n",
        "* What helped you arrive at a closer answer? Was there a point where the right answer started to make sense or become intuitive? Identify that point in your answers and report at what similarity level you converged on a solution, or realized you would fail to arrive at a solution. \n",
        "* Are there any distinguishing semantic or linguistic features that you tried that stand out to you (there may not be)? Using the tools we have discussed in class, how would you try to quantify them?"
      ],
      "metadata": {
        "id": "CG_MZuK5H3gt"
      }
    },
    {
      "cell_type": "markdown",
      "source": [
        "1.   Game1\n",
        "  *   I started with random words like name because I thought the target word was related to some kind of name. Then I thought that target word maybe related to fruit, but that gives only 0.1 similarity to target word. Then my next guess was animal, and that gives 0.32 similarity to target word, which is higher than name and fruit.\n",
        "  *   From that, I figure out that target word maybe related to some kind of animal. Then, I started listing out different categories of animals. Like, cat, it gives 0.33 similarity. Then, I tried another guess, dog and that gives 0.23 similarity which is lesser than previous word's similarity.\n",
        "  *   From that, I narrow down the search to categories of cat. So my first guess was lion, that incereases the similarity from 0.33 to 0.51. So, I continoued listing down other categories of cats.\n",
        "  *   After that, I tried cougar it gives 0.47 similarity, leopard gives 0.48 similarity and cheetah 0.52 similar to target word. Then at last I tried jaguar which was the target word.\n",
        "2.   Game2\n",
        "  *   I tried similar approach in Game2 also. I started with random words like animal, fruit, pen , class , word but these gives only 0.05 similar to target word. It took couple of chances to reach to the target word.\n",
        "  *   Then, I tried 'next' as my next guess, which increases similarity from 0.05 to 0.11. So, I thought synonym 'next' word would also be similar to target word. So, I started listing out synonym of 'next' word. Like following, upcoming, subsequent, thereafter; which increases similarity from 0.11 to 0.28. \n",
        "  *   But, it doesn't lead to to any conclusion. It's just fluctuating from 0.11 to 0.28. Then, after couple of trying I changed my approch. I tried 'week' which also gives 0.28 similarity to the target word. So, I tried lemmas and synonym of previous word. That's how I reached to target word.\n",
        "\n",
        "\n"
      ],
      "metadata": {
        "id": "8XonJl6VH63H"
      }
    },
    {
      "cell_type": "markdown",
      "source": [
        "# Question 3 (4 points)\n",
        "\n",
        "Now, look at the answers you made in order.\n",
        "\n",
        "  * How long do you find yourself working within a specific semantic space? Did you switch regularly? Informally, describe a criterion you would use to determine how consistent you were being.\n",
        "  * Do you generally find you always get closer and closer? How often did you move further away from the correct answer? Informally, how would you quantify how frequently you changed?"
      ],
      "metadata": {
        "id": "rS3331vuILVi"
      }
    },
    {
      "cell_type": "markdown",
      "source": [
        "1.   Game1\n",
        "  *  For Game1, it took hardly 5 mins to reach to the target word. As soon as, I found that, similarity starts increasing after guessing 'cat' word.   \n",
        "  *   I start listing words related to categories of cats escepecially big cats. Every time, I guess correct big cat, it was one step closer to 'jaguar'.\n",
        "\n",
        "2.   Game2\n",
        "  *  For Game2, it tooks couple of chances and approximately 2 hr to find the target word.\n",
        "  *  I was switching regularly to find out which one is giving more similarity. Every time I tried to guess it's not getting closer at all. At one point, I got negative similarity between gussing word and target word. Then, there were some words which were outside of the give vocabulary.\n",
        "\n",
        "\n",
        "  \n",
        "\n",
        "\n"
      ],
      "metadata": {
        "id": "amxpNE3D90hd"
      }
    },
    {
      "cell_type": "markdown",
      "source": [
        "# Question 4 (10 points)\n",
        "\n",
        "For this question, we are going to be computing \"neighborhood densities\" for the two words from the game notebook: \"jaguar\" and \"biweekly.\" "
      ],
      "metadata": {
        "id": "DqRsYY7wQ2Nv"
      }
    },
    {
      "cell_type": "markdown",
      "source": [
        "## Question 4A: 1 point\n",
        "\n",
        "Download spacy's en_core_web_lg model, restart the notebook, and comment out the next cell below."
      ],
      "metadata": {
        "id": "KbHOpCNDmmyg"
      }
    },
    {
      "cell_type": "code",
      "source": [
        "### download code goes here\n",
        "#!python -m spacy download en_core_web_lg  # <------ THIS LINE"
      ],
      "metadata": {
        "id": "n5LqwPeolM7h",
        "colab": {
          "base_uri": "https://localhost:8080/"
        },
        "outputId": "b924eff1-84af-4536-a91f-e7b87bd3c4f8"
      },
      "execution_count": 1,
      "outputs": [
        {
          "output_type": "stream",
          "name": "stdout",
          "text": [
            "Collecting en_core_web_lg==2.2.5\n",
            "  Downloading https://github.com/explosion/spacy-models/releases/download/en_core_web_lg-2.2.5/en_core_web_lg-2.2.5.tar.gz (827.9 MB)\n",
            "\u001b[K     |████████████████████████████████| 827.9 MB 1.2 MB/s \n",
            "\u001b[?25hRequirement already satisfied: spacy>=2.2.2 in /usr/local/lib/python3.7/dist-packages (from en_core_web_lg==2.2.5) (2.2.4)\n",
            "Requirement already satisfied: requests<3.0.0,>=2.13.0 in /usr/local/lib/python3.7/dist-packages (from spacy>=2.2.2->en_core_web_lg==2.2.5) (2.23.0)\n",
            "Requirement already satisfied: plac<1.2.0,>=0.9.6 in /usr/local/lib/python3.7/dist-packages (from spacy>=2.2.2->en_core_web_lg==2.2.5) (1.1.3)\n",
            "Requirement already satisfied: numpy>=1.15.0 in /usr/local/lib/python3.7/dist-packages (from spacy>=2.2.2->en_core_web_lg==2.2.5) (1.21.5)\n",
            "Requirement already satisfied: thinc==7.4.0 in /usr/local/lib/python3.7/dist-packages (from spacy>=2.2.2->en_core_web_lg==2.2.5) (7.4.0)\n",
            "Requirement already satisfied: blis<0.5.0,>=0.4.0 in /usr/local/lib/python3.7/dist-packages (from spacy>=2.2.2->en_core_web_lg==2.2.5) (0.4.1)\n",
            "Requirement already satisfied: wasabi<1.1.0,>=0.4.0 in /usr/local/lib/python3.7/dist-packages (from spacy>=2.2.2->en_core_web_lg==2.2.5) (0.9.0)\n",
            "Requirement already satisfied: murmurhash<1.1.0,>=0.28.0 in /usr/local/lib/python3.7/dist-packages (from spacy>=2.2.2->en_core_web_lg==2.2.5) (1.0.6)\n",
            "Requirement already satisfied: srsly<1.1.0,>=1.0.2 in /usr/local/lib/python3.7/dist-packages (from spacy>=2.2.2->en_core_web_lg==2.2.5) (1.0.5)\n",
            "Requirement already satisfied: tqdm<5.0.0,>=4.38.0 in /usr/local/lib/python3.7/dist-packages (from spacy>=2.2.2->en_core_web_lg==2.2.5) (4.63.0)\n",
            "Requirement already satisfied: setuptools in /usr/local/lib/python3.7/dist-packages (from spacy>=2.2.2->en_core_web_lg==2.2.5) (57.4.0)\n",
            "Requirement already satisfied: catalogue<1.1.0,>=0.0.7 in /usr/local/lib/python3.7/dist-packages (from spacy>=2.2.2->en_core_web_lg==2.2.5) (1.0.0)\n",
            "Requirement already satisfied: preshed<3.1.0,>=3.0.2 in /usr/local/lib/python3.7/dist-packages (from spacy>=2.2.2->en_core_web_lg==2.2.5) (3.0.6)\n",
            "Requirement already satisfied: cymem<2.1.0,>=2.0.2 in /usr/local/lib/python3.7/dist-packages (from spacy>=2.2.2->en_core_web_lg==2.2.5) (2.0.6)\n",
            "Requirement already satisfied: importlib-metadata>=0.20 in /usr/local/lib/python3.7/dist-packages (from catalogue<1.1.0,>=0.0.7->spacy>=2.2.2->en_core_web_lg==2.2.5) (4.11.2)\n",
            "Requirement already satisfied: typing-extensions>=3.6.4 in /usr/local/lib/python3.7/dist-packages (from importlib-metadata>=0.20->catalogue<1.1.0,>=0.0.7->spacy>=2.2.2->en_core_web_lg==2.2.5) (3.10.0.2)\n",
            "Requirement already satisfied: zipp>=0.5 in /usr/local/lib/python3.7/dist-packages (from importlib-metadata>=0.20->catalogue<1.1.0,>=0.0.7->spacy>=2.2.2->en_core_web_lg==2.2.5) (3.7.0)\n",
            "Requirement already satisfied: idna<3,>=2.5 in /usr/local/lib/python3.7/dist-packages (from requests<3.0.0,>=2.13.0->spacy>=2.2.2->en_core_web_lg==2.2.5) (2.10)\n",
            "Requirement already satisfied: certifi>=2017.4.17 in /usr/local/lib/python3.7/dist-packages (from requests<3.0.0,>=2.13.0->spacy>=2.2.2->en_core_web_lg==2.2.5) (2021.10.8)\n",
            "Requirement already satisfied: chardet<4,>=3.0.2 in /usr/local/lib/python3.7/dist-packages (from requests<3.0.0,>=2.13.0->spacy>=2.2.2->en_core_web_lg==2.2.5) (3.0.4)\n",
            "Requirement already satisfied: urllib3!=1.25.0,!=1.25.1,<1.26,>=1.21.1 in /usr/local/lib/python3.7/dist-packages (from requests<3.0.0,>=2.13.0->spacy>=2.2.2->en_core_web_lg==2.2.5) (1.24.3)\n",
            "Building wheels for collected packages: en-core-web-lg\n",
            "  Building wheel for en-core-web-lg (setup.py) ... \u001b[?25l\u001b[?25hdone\n",
            "  Created wheel for en-core-web-lg: filename=en_core_web_lg-2.2.5-py3-none-any.whl size=829180942 sha256=c0d035ebb3fd513599dac393317982a026149c9fd6e0a712c75018b8dfeb3c24\n",
            "  Stored in directory: /tmp/pip-ephem-wheel-cache-_ina8h74/wheels/11/95/ba/2c36cc368c0bd339b44a791c2c1881a1fb714b78c29a4cb8f5\n",
            "Successfully built en-core-web-lg\n",
            "Installing collected packages: en-core-web-lg\n",
            "Successfully installed en-core-web-lg-2.2.5\n",
            "\u001b[38;5;2m✔ Download and installation successful\u001b[0m\n",
            "You can now load the model via spacy.load('en_core_web_lg')\n"
          ]
        }
      ]
    },
    {
      "cell_type": "markdown",
      "source": [
        "## Question 4B: 1 point\n",
        "\n",
        "Run the cell below to load in imports."
      ],
      "metadata": {
        "id": "C7b289xfmwBu"
      }
    },
    {
      "cell_type": "code",
      "source": [
        "import nltk, re, spacy, warnings\n",
        "from nltk.corpus import words, treebank\n",
        "from collections import Counter, defaultdict\n",
        "from tqdm.notebook import tqdm as tqdm_notebook\n",
        "import numpy as np\n",
        "\n",
        "warnings.filterwarnings(\"ignore\", message=r\"\\[W008\\]\", category=UserWarning)"
      ],
      "metadata": {
        "id": "OItW7CfFlJz4"
      },
      "execution_count": 1,
      "outputs": []
    },
    {
      "cell_type": "markdown",
      "source": [
        "## Question 4C: 2 points\n",
        "\n",
        "1. Load in the spacy model `\"en_core_web_lg\"` and name the resulting model `nlp`.\n",
        "2. We will also load in some vocabularies that you can use to help filter words for, which both come from `nltk.` Print the first words of both `nltk_vocab` and `treebank_vocab` from indices 90 to 100. \n",
        "3. Create a new variable called `combined_vocab` that you compute using only the overlap of `nltk_vocab` and `treebank_vocab`. Print the length of the overlap in the two sets (hint: use the set method `x.intersection(y)`). \n",
        "4. Answer the question below the code block."
      ],
      "metadata": {
        "id": "aLUlsJ6fmUPT"
      }
    },
    {
      "cell_type": "code",
      "source": [
        "#load in spacy model here\n",
        "nlp = spacy.load(\"en_core_web_lg\")\n",
        "\n",
        "nltk.download('words')\n",
        "nltk_vocab = set(words.words())\n",
        "\n",
        "nltk.download('treebank')\n",
        "treebank_vocab = set(treebank.words())"
      ],
      "metadata": {
        "id": "lf-Na5dRmNJY",
        "colab": {
          "base_uri": "https://localhost:8080/"
        },
        "outputId": "07fd786f-f79a-407b-efbf-2fdbd2b12721"
      },
      "execution_count": 2,
      "outputs": [
        {
          "output_type": "stream",
          "name": "stdout",
          "text": [
            "[nltk_data] Downloading package words to /root/nltk_data...\n",
            "[nltk_data]   Unzipping corpora/words.zip.\n",
            "[nltk_data] Downloading package treebank to /root/nltk_data...\n",
            "[nltk_data]   Unzipping corpora/treebank.zip.\n"
          ]
        }
      ]
    },
    {
      "cell_type": "code",
      "source": [
        "nltk_vocab_list = []\n",
        "for nltk_vocab in nltk_vocab:\n",
        "  nltk_vocab_list.append(nltk_vocab)\n",
        "\n",
        "treebank_vocab_list = []\n",
        "for treebank_vocab in treebank_vocab:\n",
        "  treebank_vocab_list.append(treebank_vocab)\n",
        "  \n",
        "# print the 90 to 100 indices from both nltk_vocab and treebank_vocab\n",
        "nltk_vocab_list[90:100] , treebank_vocab_list[90:100]"
      ],
      "metadata": {
        "id": "GdVqsVcr_0mk"
      },
      "execution_count": null,
      "outputs": []
    },
    {
      "cell_type": "code",
      "source": [
        "nltk_vocab_set = set(nltk_vocab_list)\n",
        "treebank_vocab_set = set (treebank_vocab_list)\n",
        "nltk_vocab_set , treebank_vocab_set"
      ],
      "metadata": {
        "id": "1EF-zVNtBKA2"
      },
      "execution_count": null,
      "outputs": []
    },
    {
      "cell_type": "code",
      "source": [
        "# save the overlap between nltk_vocab and treebank_vocab in combined_vocab\n",
        "combine_vocab = nltk_vocab_set.intersection(treebank_vocab_set)\n",
        "# print length of combined_vocab\n",
        "len(combine_vocab)"
      ],
      "metadata": {
        "colab": {
          "base_uri": "https://localhost:8080/"
        },
        "id": "W-ls5_QgDY8E",
        "outputId": "e1f82193-4ce9-4444-c82c-5df96f43a079"
      },
      "execution_count": 5,
      "outputs": [
        {
          "output_type": "execute_result",
          "data": {
            "text/plain": [
              "5277"
            ]
          },
          "metadata": {},
          "execution_count": 5
        }
      ]
    },
    {
      "cell_type": "markdown",
      "source": [
        "The intersection of these two vocabularies helps us accomplish something different from the individual vocabularies. On a practical level, what do you think this intersection operation does to the vocabulary? Inspect the intersection if necessary."
      ],
      "metadata": {
        "id": "rgnHnsMGrZSl"
      }
    },
    {
      "cell_type": "markdown",
      "source": [
        "*   In mathematics, we use intersection to find common elements/numbers between two sets.\n",
        "*   So, instead of working on entire datasets, we can work on items those are common between them. It helps to find out number of most common words across the dataset.\n",
        "*   It's very easy to find similarity between target word with combine vocabulary, as combine vocabulary contains common words.\n",
        "\n",
        "\n"
      ],
      "metadata": {
        "id": "WRwGe0o5roPJ"
      }
    },
    {
      "cell_type": "markdown",
      "source": [
        "## Question 4D: 5 points\n",
        "\n",
        "Modify the function `compute_neighbors` to iterate through a full vocabulary using the `_similarity` function. If a value returned by the `_similarity` function is `None`, do not add it to the list of `neighbors`. This function should work for any `vocabulary` argument presented as a list of strings. Do NOT modify the arguments to the function, only the internal code. Only modify the segments of code that need to be filled in."
      ],
      "metadata": {
        "id": "B6EmrojnmIFS"
      }
    },
    {
      "cell_type": "code",
      "source": [
        "def _similarity(nlp, w1, w2):\n",
        "  if w1 in nlp.vocab and w2 in nlp.vocab:\n",
        "    return nlp(w1).similarity(nlp(w2))\n",
        "  else:\n",
        "    return None\n",
        "\n",
        "\n",
        "def compute_neighbors(nlp, target_word, vocabulary):\n",
        "  neighbors: list = []\n",
        "  # iterate through all the vocab words for a specific vocab\n",
        "  for vocab in vocabulary:\n",
        "    # compute the similarity between the target and the vocab word to neighbors\n",
        "    word = _similarity(nlp , target_word , vocab)\n",
        "    # save the similarity to neighbors by appending it unless the value is None\n",
        "    if word != None:\n",
        "      neighbors.append(word)\n",
        "      \n",
        "  return neighbors"
      ],
      "metadata": {
        "id": "8UXDh8MXmjBD"
      },
      "execution_count": 6,
      "outputs": []
    },
    {
      "cell_type": "markdown",
      "source": [
        "# Question 5: 6 points\n",
        "\n",
        "Now, for this section, we want you to compute a mean similarity score for both `\"jaguar\"` and `\"biweekly\"` using only terms in `combined_vocab`. You should create a `for` loop that will enable you to reuse code that will print out:\n",
        "\n",
        "1. The average similarity for each of the 2 terms to the other vocabulary items\n",
        "2. The identify of the term in question (jaguar, biweekly)\n",
        "\n",
        "## Question 5A: 3 points\n",
        "\n",
        "For this, you will need to use your updated `compute_neigbors` function, which returns a list of `float` values, and then compute the mean of the that list. To do so, you should look up how to compute the mean of an array in `numpy` (imported here as `np`) and report the values associated with each list."
      ],
      "metadata": {
        "id": "xJqnxEnIuKeQ"
      }
    },
    {
      "cell_type": "code",
      "source": [
        "import numpy as np"
      ],
      "metadata": {
        "id": "o0x8qmYNDBPt"
      },
      "execution_count": 7,
      "outputs": []
    },
    {
      "cell_type": "code",
      "source": [
        "from numpy.core.fromnumeric import mean\n",
        "target_word_dict = {'1':'jaguar','2':'biweekly'}\n",
        "similarity = []\n",
        "mean_list = []\n",
        "\n",
        "# start your loop over the words\n",
        "for target in target_word_dict:\n",
        "  # compute similarity for the word to the whole vocab\n",
        "  target_word = target_word_dict[target]\n",
        "  similarity.append(compute_neighbors(nlp, target_word, combine_vocab))\n",
        "\n",
        "array_1 = np.array(similarity[0])\n",
        "array_2 = np.array(similarity[1])\n",
        "# compute mean for intersection/combined_vocab\n",
        "mean_list_1 = np.mean(array_1)\n",
        "mean_list_2 = np.mean(array_2)\n",
        "# print the results in nice formatting\n",
        "print(\"Mean of target word 'jaguar'with whole vocab::\" ,mean_list_1)\n",
        "print(\"Mean of target word 'biweekly'with whole vocab::\", mean_list_2)"
      ],
      "metadata": {
        "colab": {
          "base_uri": "https://localhost:8080/"
        },
        "id": "FDMr8fHaCuYm",
        "outputId": "33cc72c1-45ef-4c02-9753-24eef6afb465"
      },
      "execution_count": 8,
      "outputs": [
        {
          "output_type": "stream",
          "name": "stdout",
          "text": [
            "Mean of target word 'jaguar'with whole vocab:: 0.06975286078548586\n",
            "Mean of target word 'biweekly'with whole vocab:: 0.056279390224239535\n"
          ]
        }
      ]
    },
    {
      "cell_type": "markdown",
      "source": [
        "## Question 5B: 3 points\n",
        "\n",
        "Now that you have computed the neighborhood densities for `\"jaguar\"` and `\"biweekly\"`, summarize the general pattern of results. On average, what are the patterns you see? Which of the six groups has the highest average similarity? And the lowest average similarity? Speculate on why you think that might be the case."
      ],
      "metadata": {
        "id": "8zdd0zf5vnEc"
      }
    },
    {
      "cell_type": "markdown",
      "source": [
        "\n",
        "\n",
        "*  The neighborhood density is the number of different words that can be formed from one basic unit of sound by making changes in it. Here, we get floating value as a result which shows how much target word is closer other words in combine_vocab.\n",
        "*  Tha pattern I see here, is that, if the word is common i.e, the we used that word daily then there is high chance of highest average similarity.\n",
        "*  As you can see above, average of similarity of jaguar is greater than biweekly. It happend because, word 'jaguar' is common compare to word 'biweekly'. \n",
        "*  From the game that I played, also support the above point. As, there are some words in combine_vocab which may be more similar to 'jaguar' than 'biweekly'.\n",
        "\n"
      ],
      "metadata": {
        "id": "IkIvjinCwKyq"
      }
    },
    {
      "cell_type": "markdown",
      "source": [
        "# Bonus: 3 points\n",
        "\n",
        "One of the issues with computing the mean similarity of a word to the rest of the vocabulary is that it is insensitive to some properties of word embeddings. For example, two words might have similar average densities but one might nevertheless have several very near neighbors and others might have more diffuse degrees of similarity. For this bonus question, try to answer the following:\n",
        "\n",
        "1. What mathematical terminology best describes the relationship between the distance between two words (e.g., \"jaguar\" and \"cat\" vs. \"pizza\") in terms of number of intervening words?\n",
        "2. As an alternative to the mean, what other measures might we consider computing?\n",
        "3. Plot or draw one such relationship (empirical or hypothetical) by hand. If you do not use code to draw this relationship, you may upload an additional figure or drawing if you go wish."
      ],
      "metadata": {
        "id": "uJdlgG3uB2Ej"
      }
    },
    {
      "cell_type": "markdown",
      "source": [
        "*   Cosine distance is the best terminology to describes the relationship between two words.  \n",
        "*   Cosine similarity is used to measure the similarity between two vectors using inner product. The angle between the two vectors tells you that if they are in same direction or not. The higher the values of Θ, the lower the cos(Θ), and hence lower the similarity.\n",
        "*   In the given example, 'jaguar' and 'cat' vs. 'pizza', if we apply cosine similarity on 'jaguar' and 'cat' then we will get lower Θ which means higher similarity as both are part of the same category. And, if we apply cosine similarity on 'jaguar' and 'pizza', 'cat' and 'pizza' then we will get higher Θ, which leads to lower similarity as these words are not related to each other.\n",
        "*   Other than mean, median can also be used to deal with all kinds of data.\n",
        "![1*YObjpgE_1qOTavYe9as-sg.png](data:image/png;base64,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)\n",
        "---\n",
        "![img1.png](data:image/png;base64,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)\n",
        "---\n",
        "![img1-2.png](data:image/png;base64,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)\n",
        "---\n",
        "\n",
        "![img1-3.png](data:image/png;base64,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)\n",
        "---"
      ],
      "metadata": {
        "id": "BRsS_UnRga0x"
      }
    },
    {
      "cell_type": "code",
      "source": [
        "# bonus code if you decide to plot anything will go here"
      ],
      "metadata": {
        "id": "IzDl1d7AiV-n"
      },
      "execution_count": null,
      "outputs": []
    }
  ]
}